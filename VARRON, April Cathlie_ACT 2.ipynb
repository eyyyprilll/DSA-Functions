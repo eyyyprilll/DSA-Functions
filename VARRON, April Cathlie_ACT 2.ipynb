{
 "cells": [
  {
   "cell_type": "markdown",
   "metadata": {},
   "source": [
    "ACTIVITY 2 \n",
    "Varron, April Cathlie "
   ]
  },
  {
   "cell_type": "markdown",
   "metadata": {},
   "source": [
    "1. ## Lab 2 Exercise 1\n",
    "#### A teacher named Mrs. Rivera who loved making math fun for her students. One day, a student named Mia asked how to calculate powers, like (2^7). Mrs. Rivera explained, “Imagine you need to multiply 2 by itself seven times. We can solve this using a python code utilizing  special method called recursion to solve this,” \n",
    "### Can you help the class of Mrs. Rivera by providing the recursive method to calculate powers?"
   ]
  },
  {
   "cell_type": "code",
   "execution_count": 2,
   "metadata": {},
   "outputs": [
    {
     "name": "stdout",
     "output_type": "stream",
     "text": [
      "The result of 2.0 raised to 7 is 128.0\n"
     ]
    }
   ],
   "source": [
    "# Use Recursion for Power \n",
    "def power(base, exponent):\n",
    "    # Any number to the power of 0 is 1\n",
    "    if exponent == 0:\n",
    "        return 1\n",
    "    # Recursion: Multiply base by the result of power(base, exponent - 1)\n",
    "    else:\n",
    "        return base * power(base, exponent - 1)\n",
    "\n",
    "# Power Calculator\n",
    "def main():\n",
    "    while True: \n",
    "        # Ask user to input base and exponent\n",
    "        base_input = input(\"Input Base: \")\n",
    "        exponent_input = input(\"Input Exponent: \")\n",
    "\n",
    "        # Avoid Error if invalid inputs (e.g. letters)\n",
    "        try:\n",
    "            base = float(base_input)  #Base to Float\n",
    "            exponent = int(exponent_input)  #Exp. to Int\n",
    "\n",
    "            # Calculate the power \n",
    "            result = power(base, exponent)\n",
    "\n",
    "            # Print the result and exit the loop\n",
    "            print(f\"The result of {base} raised to {exponent} is {result}\")\n",
    "            break  # Exit the loop if successful \n",
    "\n",
    "        except ValueError:\n",
    "            print(\"ERROR! Please enter valid numbers.\")\n",
    "            continue  # Back to input again\n",
    "\n",
    "# Call Main Function\n",
    "main()\n"
   ]
  },
  {
   "cell_type": "markdown",
   "metadata": {},
   "source": [
    "2. #### Cube Calculator "
   ]
  },
  {
   "cell_type": "markdown",
   "metadata": {},
   "source": [
    "Steps:\n",
    "1. Input the size of the array.\n",
    "2. input the elements of the array\n",
    "3. display the cube of each element\n",
    "\n",
    "Sample output\n",
    "\n",
    "Enter the size of the array : 3\n",
    "Enter the elements separated by space: 3 10 20\n",
    "27\n",
    "1000\n",
    "8000"
   ]
  },
  {
   "cell_type": "code",
   "execution_count": 22,
   "metadata": {},
   "outputs": [
    {
     "name": "stdout",
     "output_type": "stream",
     "text": [
      "The cubes of the elements are:\n",
      "27\n",
      "1000\n",
      "8000\n"
     ]
    }
   ],
   "source": [
    "# Step 1: Input the size of the array\n",
    "size = int(input(\"Enter the size of the array: \"))\n",
    "\n",
    "# Step 2: Input the elements of the array separated by space\n",
    "elements = input(\"Enter the elements separated by space: \").split()\n",
    "\n",
    "# Check if the number of elements is equal to the array\n",
    "if len(elements) != size:\n",
    "    print(\"Error! The number of elements does not match the size of the array!\")\n",
    "else:\n",
    "    # Convert the elements to integers\n",
    "    array = [int(element) for element in elements]\n",
    "\n",
    "    # Step 3: Display the cube of each element\n",
    "    print(\"The cubes of the elements are:\")\n",
    "    for element in array:\n",
    "        print(element ** 3)\n"
   ]
  },
  {
   "cell_type": "markdown",
   "metadata": {},
   "source": [
    "3. #### Hollow Square\n"
   ]
  },
  {
   "cell_type": "code",
   "execution_count": 26,
   "metadata": {},
   "outputs": [
    {
     "name": "stdout",
     "output_type": "stream",
     "text": [
      "X X X X X X \n",
      "X         X \n",
      "X         X \n",
      "X         X \n",
      "X         X \n",
      "X X X X X X \n"
     ]
    }
   ],
   "source": [
    "# Input the side length of the square\n",
    "n = int(input(\"Enter the length of the side of a square: \"))\n",
    "\n",
    "# Create the hollow square\n",
    "for a in range(n):\n",
    "    for c in range(n):\n",
    "        # Print 'X' for the sides of the square\n",
    "        if a == 0 or a == n-1 or c == 0 or c == n-1:\n",
    "            print('X', end=' ')\n",
    "        else:\n",
    "            print(' ', end=' ')\n",
    "    print()\n"
   ]
  },
  {
   "cell_type": "markdown",
   "metadata": {},
   "source": [
    "4. #### Inverted Triangle"
   ]
  },
  {
   "cell_type": "code",
   "execution_count": 27,
   "metadata": {},
   "outputs": [
    {
     "name": "stdout",
     "output_type": "stream",
     "text": [
      "* * * * * * * \n",
      "* * * * * * \n",
      "* * * * * \n",
      "* * * * \n",
      "* * * \n",
      "* * \n",
      "* \n"
     ]
    }
   ],
   "source": [
    "# Allow the user to input the height of the triangle\n",
    "n = int(input(\"Enter the height of the triangle: \"))\n",
    "\n",
    "# Create the inverted right triangle\n",
    "for a in range(n, 0, -1):\n",
    "    for c in range(i):\n",
    "        print('*', end=' ')\n",
    "    print()"
   ]
  }
 ],
 "metadata": {
  "kernelspec": {
   "display_name": "Python 3",
   "language": "python",
   "name": "python3"
  },
  "language_info": {
   "codemirror_mode": {
    "name": "ipython",
    "version": 3
   },
   "file_extension": ".py",
   "mimetype": "text/x-python",
   "name": "python",
   "nbconvert_exporter": "python",
   "pygments_lexer": "ipython3",
   "version": "3.12.2"
  }
 },
 "nbformat": 4,
 "nbformat_minor": 2
}
